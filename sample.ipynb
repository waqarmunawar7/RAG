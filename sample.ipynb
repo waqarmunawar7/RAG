{
 "cells": [
  {
   "cell_type": "code",
   "execution_count": null,
   "id": "71bdfb5f",
   "metadata": {},
   "outputs": [],
   "source": [
    "import requests\n",
    "from urllib.parse import urljoin, urlparse\n",
    "from bs4 import BeautifulSoup\n",
    "\n",
    "def get_all_valid_links(url, domain=None, visited=None):\n",
    "    if visited is None:\n",
    "        visited = set()\n",
    "\n",
    "    if domain is None:\n",
    "        domain = urlparse(url).netloc\n",
    "\n",
    "    if url in visited:\n",
    "        return visited\n",
    "\n",
    "    try:\n",
    "        response = requests.get(url, timeout=5)\n",
    "        if response.status_code != 200:\n",
    "            print(f\"Skipping {url} - HTTP {response.status_code}\")\n",
    "            return visited\n",
    "\n",
    "        if \"nothing found\" in response.text.lower():\n",
    "            print(f\"Skipping {url} - 'Nothing Found' in content\")\n",
    "            return visited\n",
    "\n",
    "        visited.add(url)\n",
    "        print(f\"Valid URL: {url}\")\n",
    "\n",
    "        soup = BeautifulSoup(response.content, \"html.parser\")\n",
    "        for tag in soup.find_all(\"a\", href=True):\n",
    "            href = tag['href']\n",
    "            full_url = urljoin(url, href)\n",
    "            parsed_href = urlparse(full_url)\n",
    "\n",
    "            if parsed_href.netloc == domain:\n",
    "                normalized_url = parsed_href.scheme + \"://\" + parsed_href.netloc + parsed_href.path\n",
    "                if normalized_url not in visited:\n",
    "                    get_all_valid_links(normalized_url, domain, visited)\n",
    "\n",
    "    except Exception as e:\n",
    "        print(f\"Error visiting {url}: {e}\")\n",
    "\n",
    "    return visited\n"
   ]
  },
  {
   "cell_type": "code",
   "execution_count": 13,
   "id": "eafe1cf8",
   "metadata": {},
   "outputs": [
    {
     "name": "stdout",
     "output_type": "stream",
     "text": [
      "Valid URL: https://lambdalogics.com/\n",
      "Valid URL: https://lambdalogics.com/about\n",
      "Valid URL: https://lambdalogics.com/expertise/\n",
      "Error visiting https://lambdalogics.com/expertise/cloud-services-and-devops/: HTTPSConnectionPool(host='lambdalogics.com', port=443): Read timed out. (read timeout=5)\n",
      "Error visiting https://lambdalogics.com/expertise/custom-development/: HTTPSConnectionPool(host='lambdalogics.com', port=443): Read timed out.\n",
      "Error visiting https://lambdalogics.com/expertise/data-engineering-services/: HTTPSConnectionPool(host='lambdalogics.com', port=443): Read timed out.\n",
      "Valid URL: https://lambdalogics.com/expertise/information-security-services/\n",
      "Error visiting https://lambdalogics.com/expertise/cloud-services-and-devops/: HTTPSConnectionPool(host='lambdalogics.com', port=443): Read timed out. (read timeout=5)\n",
      "Error visiting https://lambdalogics.com/expertise/custom-development/: HTTPSConnectionPool(host='lambdalogics.com', port=443): Read timed out. (read timeout=5)\n",
      "Error visiting https://lambdalogics.com/expertise/data-engineering-services/: HTTPSConnectionPool(host='lambdalogics.com', port=443): Max retries exceeded with url: /expertise/data-engineering-services/ (Caused by ConnectTimeoutError(<urllib3.connection.HTTPSConnection object at 0x7d5df8c7fcd0>, 'Connection to lambdalogics.com timed out. (connect timeout=5)'))\n",
      "Error visiting https://lambdalogics.com/expertise/mobile-app-development/: HTTPSConnectionPool(host='lambdalogics.com', port=443): Read timed out. (read timeout=5)\n",
      "Error visiting https://lambdalogics.com/expertise/staff-augmentation-services/: HTTPSConnectionPool(host='lambdalogics.com', port=443): Max retries exceeded with url: /expertise/staff-augmentation-services/ (Caused by ConnectTimeoutError(<urllib3.connection.HTTPSConnection object at 0x7d5df8c7dcc0>, 'Connection to lambdalogics.com timed out. (connect timeout=5)'))\n",
      "Valid URL: https://lambdalogics.com/careers/\n",
      "Valid URL: https://lambdalogics.com/expertise/cloud-services-and-devops/\n",
      "Valid URL: https://lambdalogics.com/expertise/custom-development/\n",
      "Valid URL: https://lambdalogics.com/expertise/data-engineering-services/\n",
      "Valid URL: https://lambdalogics.com/expertise/mobile-app-development/\n",
      "Valid URL: https://lambdalogics.com/expertise/staff-augmentation-services/\n",
      "Valid URL: https://lambdalogics.com/contact-us/\n",
      "Valid URL: https://lambdalogics.com/contact\n",
      "Skipping https://lambdalogics.com/author/admin/ - 'Nothing Found' in content\n",
      "Valid URL: https://lambdalogics.com/about/\n",
      "Skipping https://lambdalogics.com/author/admin/ - 'Nothing Found' in content\n",
      "Skipping https://lambdalogics.com/author/admin/ - 'Nothing Found' in content\n",
      "Skipping https://lambdalogics.com/author/admin/ - 'Nothing Found' in content\n",
      "Error visiting https://lambdalogics.com/help-center/asset-protection-plans/: HTTPSConnectionPool(host='lambdalogics.com', port=443): Read timed out. (read timeout=5)\n",
      "Skipping https://lambdalogics.com/help-center/help-intellectual-ideas/ - HTTP 404\n",
      "Skipping https://lambdalogics.com/help-center/market-rules-policies/ - HTTP 404\n",
      "Skipping https://lambdalogics.com/help-center/strategic-business-trends/ - HTTP 404\n",
      "Skipping https://lambdalogics.com/author/fawad-zia/ - 'Nothing Found' in content\n",
      "Skipping https://lambdalogics.com/help-center/asset-protection-plans/ - HTTP 404\n",
      "Skipping https://lambdalogics.com/help-center/help-intellectual-ideas/ - HTTP 404\n",
      "Skipping https://lambdalogics.com/help-center/market-rules-policies/ - HTTP 404\n",
      "Skipping https://lambdalogics.com/help-center/strategic-business-trends/ - HTTP 404\n",
      "Skipping https://lambdalogics.com/author/fawad-zia/ - 'Nothing Found' in content\n",
      "Skipping https://lambdalogics.com/help-center/asset-protection-plans/ - HTTP 404\n",
      "Skipping https://lambdalogics.com/help-center/help-intellectual-ideas/ - HTTP 404\n",
      "Skipping https://lambdalogics.com/help-center/market-rules-policies/ - HTTP 404\n",
      "Skipping https://lambdalogics.com/help-center/strategic-business-trends/ - HTTP 404\n",
      "Skipping https://lambdalogics.com/author/fawad-zia/ - 'Nothing Found' in content\n",
      "Skipping https://lambdalogics.com/help-center/asset-protection-plans/ - HTTP 404\n",
      "Skipping https://lambdalogics.com/help-center/help-intellectual-ideas/ - HTTP 404\n",
      "Skipping https://lambdalogics.com/help-center/market-rules-policies/ - HTTP 404\n",
      "Skipping https://lambdalogics.com/help-center/strategic-business-trends/ - HTTP 404\n",
      "Skipping https://lambdalogics.com/author/fawad-zia/ - 'Nothing Found' in content\n",
      "Skipping https://lambdalogics.com/help-center/asset-protection-plans/ - HTTP 404\n",
      "Skipping https://lambdalogics.com/help-center/help-intellectual-ideas/ - HTTP 404\n",
      "Skipping https://lambdalogics.com/help-center/market-rules-policies/ - HTTP 404\n",
      "Skipping https://lambdalogics.com/help-center/strategic-business-trends/ - HTTP 404\n",
      "Skipping https://lambdalogics.com/author/admin/ - 'Nothing Found' in content\n",
      "Skipping https://lambdalogics.com/author/fawad-zia/ - 'Nothing Found' in content\n",
      "Skipping https://lambdalogics.com/help-center/asset-protection-plans/ - HTTP 404\n",
      "Skipping https://lambdalogics.com/help-center/help-intellectual-ideas/ - HTTP 404\n",
      "Skipping https://lambdalogics.com/help-center/market-rules-policies/ - HTTP 404\n",
      "Skipping https://lambdalogics.com/help-center/strategic-business-trends/ - HTTP 404\n",
      "Error visiting https://lambdalogics.com/author/admin/: HTTPSConnectionPool(host='lambdalogics.com', port=443): Read timed out. (read timeout=5)\n",
      "Skipping https://lambdalogics.com/author/admin/ - 'Nothing Found' in content\n",
      "Skipping https://lambdalogics.com/author/admin/ - 'Nothing Found' in content\n",
      "\n",
      "All internal links found:\n",
      "https://lambdalogics.com/\n",
      "https://lambdalogics.com/expertise/information-security-services/\n",
      "https://lambdalogics.com/expertise/\n",
      "https://lambdalogics.com/careers/\n",
      "https://lambdalogics.com/expertise/custom-development/\n",
      "https://lambdalogics.com/expertise/staff-augmentation-services/\n",
      "https://lambdalogics.com/contact-us/\n",
      "https://lambdalogics.com/expertise/mobile-app-development/\n",
      "https://lambdalogics.com/about/\n",
      "https://lambdalogics.com/expertise/data-engineering-services/\n",
      "https://lambdalogics.com/about\n",
      "https://lambdalogics.com/contact\n",
      "https://lambdalogics.com/expertise/cloud-services-and-devops/\n"
     ]
    }
   ],
   "source": [
    "start_url = \"https://lambdalogics.com/\"\n",
    "all_links = get_all_valid_links(start_url)\n",
    "print(\"\\nAll internal links found:\")\n",
    "for link in all_links:\n",
    "    print(link)\n"
   ]
  },
  {
   "cell_type": "code",
   "execution_count": 14,
   "id": "918a3598",
   "metadata": {},
   "outputs": [
    {
     "data": {
      "text/plain": [
       "['https://lambdalogics.com/',\n",
       " 'https://lambdalogics.com/expertise/information-security-services/',\n",
       " 'https://lambdalogics.com/expertise/',\n",
       " 'https://lambdalogics.com/careers/',\n",
       " 'https://lambdalogics.com/expertise/custom-development/',\n",
       " 'https://lambdalogics.com/expertise/staff-augmentation-services/',\n",
       " 'https://lambdalogics.com/contact-us/',\n",
       " 'https://lambdalogics.com/expertise/mobile-app-development/',\n",
       " 'https://lambdalogics.com/about/',\n",
       " 'https://lambdalogics.com/expertise/data-engineering-services/',\n",
       " 'https://lambdalogics.com/about',\n",
       " 'https://lambdalogics.com/contact',\n",
       " 'https://lambdalogics.com/expertise/cloud-services-and-devops/']"
      ]
     },
     "execution_count": 14,
     "metadata": {},
     "output_type": "execute_result"
    }
   ],
   "source": [
    "list(all_links)"
   ]
  },
  {
   "cell_type": "code",
   "execution_count": 15,
   "id": "556813e0",
   "metadata": {},
   "outputs": [],
   "source": [
    "import ollama"
   ]
  },
  {
   "cell_type": "code",
   "execution_count": 21,
   "id": "b31776df",
   "metadata": {},
   "outputs": [],
   "source": [
    "prompt = '''You are a helpful assistant. Based only on the information in the context below, answer the user's question in one or two sentences.\\n    Context:\\n    [Document(id='1b221c18-7336-4b9f-aca2-28dd3775ffb0', metadata={}, page_content='Careersadmin2024-08-28T03:22:37+00:00 \\\\n\\\\nLambda Logics is a leading managed IT solutions provider in the industry, offering customized technology services to businesses of all scales to maximize efficiency, minimize surprises, and increase speed to market.\\\\n\\\\nSend your inquiry'), Document(id='3bd26c24-1deb-4d3e-938f-92a643b99554', metadata={}, page_content='Arvin Leon Thorton, Trimble Inc.\\\\nWe started staff augmentation partnership with Lambda Logics over three years and have really benefited from their reliable services. Their commitment to open and honest communication, accountability, and integrity has been invaluable, and we anticipate continuing this fruitful collaboration. This partnership also continues to help us with our business growth.\\\\nIf you are a business looking to scale up, I highly recommend using Lambda Logics services.'), Document(id='cd03c7ad-ebfd-43b6-b12e-d76beec83c55', metadata={}, page_content='Affordable Solutions For Your BusinessTransform your business with Lambda Logics. Discover how you can achieve more with less through our robust IT solutions available at affordable prices.'), Document(id='7ebbcc65-3dc8-4f90-bfab-bcce530db790', metadata={}, page_content='Mona Zia, Avant Tech Pty.\\\\nExperience Innovation with Lambda LogicsReady to elevate IT operations and tech infrastructure to drive sustainable growth at your company? Connect with our experts today!\\\\nSchedule a ConsultationLeading Innovation, Shaping Tomorrow!Lamda Logics offers a range of cutting-edge, custom-tailored managed IT services to help you overcome challenges and shape your tomorrow!\\\\nExplore What We Do!Meet Our Client and Partners'), Document(id='46829162-a0d3-4f4c-9750-5eb47b6c67d1', metadata={}, page_content='learn moreResult-Driven – Focused – Secure\\\\nWhy choose Lambda Logics?We aim to be the go-to IT company for technology and consulting solutions. Here, the team thrives on long-term partnerships and successful growth as an IT consultancy group. Choose Lambda Logics for:')]\\n    Question: How I contact with lambda logics?\\n    Answer:'''"
   ]
  },
  {
   "cell_type": "code",
   "execution_count": null,
   "id": "e94b2bf7",
   "metadata": {},
   "outputs": [],
   "source": [
    "intents = {\n",
    "    'services':[\n",
    "        \"cloud\",\n",
    "        \"devops\",\n",
    "        \"infrastructure_management\",\n",
    "        \"custom_software\",\n",
    "        \"mobile_development\",\n",
    "        \"staff_augmentation\",\n",
    "        'others'\n",
    "    ],\n",
    "    'company':[\n",
    "        \"about_us\",\n",
    "        \"careers\",\n",
    "        \"partners\",\n",
    "        \"contact_us\"\n",
    "    ],\n",
    "    'others':[\n",
    "        \"testimonials\",\n",
    "        \"blog\",\n",
    "        \"privacy_policy\",\n",
    "        \"terms_conditions\"\n",
    "    ]\n",
    "    \n",
    "}"
   ]
  },
  {
   "cell_type": "code",
   "execution_count": 17,
   "id": "d96559b8",
   "metadata": {},
   "outputs": [
    {
     "name": "stderr",
     "output_type": "stream",
     "text": [
      "Device set to use cpu\n"
     ]
    },
    {
     "name": "stdout",
     "output_type": "stream",
     "text": [
      "{'top_level_intent': 'services', 'sub_level_intent': 'staff_augmentation', 'confidence_scores': {'top_intent_score': 0.743, 'sub_intent_score': 0.486}}\n"
     ]
    }
   ],
   "source": [
    "from transformers import pipeline\n",
    "\n",
    "# Define your intent hierarchy\n",
    "intents = {\n",
    "    'services': [\n",
    "        \"cloud\",\n",
    "        \"devops\",\n",
    "        \"infrastructure_management\",\n",
    "        \"custom_software\",\n",
    "        \"mobile_development\",\n",
    "        \"staff_augmentation\",\n",
    "        \"others\"\n",
    "    ],\n",
    "    'company': [\n",
    "        \"about_us\",\n",
    "        \"careers\",\n",
    "        \"partners\",\n",
    "        \"contact_us\"\n",
    "    ],\n",
    "    'others': [\n",
    "        \"testimonials\",\n",
    "        \"blog\",\n",
    "        \"privacy_policy\",\n",
    "        \"terms_conditions\"\n",
    "    ]\n",
    "}\n",
    "\n",
    "# Load zero-shot classifier\n",
    "classifier = pipeline(\"zero-shot-classification\", model=\"facebook/bart-large-mnli\")\n",
    "\n",
    "# Function to classify both top and sub intents\n",
    "def classify_intent(text, intent_tree):\n",
    "    # Step 1: Classify top-level intent\n",
    "    top_labels = list(intent_tree.keys())\n",
    "    top_result = classifier(text, top_labels)\n",
    "    top_intent = top_result['labels'][0]\n",
    "\n",
    "    # Step 2: Classify sub-level intent\n",
    "    sub_labels = intent_tree[top_intent]\n",
    "    sub_result = classifier(text, sub_labels)\n",
    "    sub_intent = sub_result['labels'][0]\n",
    "\n",
    "    return {\n",
    "        \"top_level_intent\": top_intent,\n",
    "        \"sub_level_intent\": sub_intent,\n",
    "        \"confidence_scores\": {\n",
    "            \"top_intent_score\": round(top_result['scores'][0], 3),\n",
    "            \"sub_intent_score\": round(sub_result['scores'][0], 3)\n",
    "        }\n",
    "    }\n",
    "\n",
    "# Example input text\n",
    "input_text = \"\"\"\n",
    "We help you scale your team efficiently through staff augmentation services. Our talent pool includes engineers, developers, and experts trained for enterprise-grade delivery.\n",
    "\"\"\"\n",
    "\n",
    "# Classify the input\n",
    "result = classify_intent(input_text, intents)\n",
    "print(result)\n"
   ]
  },
  {
   "cell_type": "code",
   "execution_count": 41,
   "id": "1d889375",
   "metadata": {},
   "outputs": [],
   "source": [
    "import ollama\n",
    "import json"
   ]
  },
  {
   "cell_type": "code",
   "execution_count": 42,
   "id": "394e2745",
   "metadata": {},
   "outputs": [],
   "source": [
    "history = [\n",
    "  {\n",
    "    \"role\": \"user\",\n",
    "    \"content\": \"How i cennect with lambda logics?\"\n",
    "  },\n",
    "  {\n",
    "    \"role\": \"assistant\",\n",
    "    \"content\": \"+1 800 555 5555\"\n",
    "  },\n",
    "  {\n",
    "    \"role\": \"user\",\n",
    "    \"content\": \"what is this number?\"\n",
    "  },\n",
    "  {\n",
    "    \"role\": \"assistant\",\n",
    "    \"content\": \"I don't have enough information to answer this question. Can you please add or specify more information?\"\n",
    "  },\n",
    "  {\n",
    "    \"role\": \"user\",\n",
    "    \"content\": \"you send a number when i ask about how I connect with lambda logics\"\n",
    "  },\n",
    "  \n",
    "  {\n",
    "    \"role\": \"assistant\",\n",
    "    \"content\": \"+1 800 555 5555\"\n",
    "  },\n",
    "\n",
    "  {\n",
    "    \"role\": \"user\",\n",
    "    \"content\": \"what is this number/\"\n",
    "  },\n",
    "  {\n",
    "    \"role\": \"assistant\",\n",
    "    \"content\": \"+1 800 555 5555\"\n",
    "  }\n",
    "]"
   ]
  },
  {
   "cell_type": "code",
   "execution_count": 48,
   "id": "b97690ea",
   "metadata": {},
   "outputs": [],
   "source": [
    "retrieved_context = \"my name is waqar\"\n",
    "question = \"What is my name ?   \""
   ]
  },
  {
   "cell_type": "code",
   "execution_count": 49,
   "id": "21bfada6",
   "metadata": {},
   "outputs": [],
   "source": [
    "message = [\n",
    "    {\"role\": \"system\", \"content\": \"You are a helpful AI assistant. You must only answer using the information provided in the context below. If the context is empty or lacks enough information to answer the user's question, say: 'I don't have enough information to answer this question. Can you pleace add or specify more information!' and avoid including any additional explanation or message. Be clear and concise. When possible, provide a complete answer based only on the context.\"},\n",
    "    history[-5],\n",
    "    {'role': 'user', 'content': f'Context:\\n\"\"\"\\n{retrieved_context}'},\n",
    "    {'role':'user','content': f'Question:\\n\"\"\"\\n{question}'},\n",
    "]\n"
   ]
  },
  {
   "cell_type": "code",
   "execution_count": 51,
   "id": "a160af88",
   "metadata": {},
   "outputs": [],
   "source": [
    "stream = ollama.generate(\n",
    "    model=\"llama3.2:1b\",\n",
    "    prompt=\"What is list in python\",\n",
    "    stream=False\n",
    "    \n",
    ")"
   ]
  },
  {
   "cell_type": "code",
   "execution_count": 53,
   "id": "6980faef",
   "metadata": {},
   "outputs": [
    {
     "data": {
      "text/plain": [
       "'In Python, a \"list\" is a data structure that can be thought of as an ordered collection of items. It\\'s similar to an array or a vector in other programming languages.\\n\\nA list in Python is defined using square brackets `[]` and elements are separated by commas. You can also add elements dynamically using the `append()` method, which adds an item to the end of the list.\\n\\nHere\\'s an example of a simple list:\\n```\\nmy_list = [1, 2, 3, \"hello\", 4.5]\\n```\\nIn this example, `my_list` is a list containing five elements: the numbers 1, 2, 3, and the string \"hello\". The number 4.5 is also an element of the list.\\n\\nSome common operations you can perform on lists in Python include:\\n\\n* Indexing: Accessing individual elements using their index (e.g., `my_list[0]` gets the first element).\\n* Slicing: Extracting a subset of elements from the list using square brackets and a range or a slice string.\\n* Length: Getting the number of elements in the list.\\n* Append: Adding an item to the end of the list.\\n* Insert: Adding an item at a specific position in the list.\\n\\nSome common Python data structures that are similar to lists include:\\n\\n* Tuples (or ordered sets): Similar to lists, but without the ability to modify the order of elements.\\n* Dictionaries: Key-value pairs stored in memory.\\n* Sets: An unordered collection of unique elements.\\n\\nHere\\'s an example of how you might use some of these data structures:\\n```\\n# Create a list\\nmy_list = [1, 2, 3]\\n\\n# Append an item to the end of the list\\nmy_list.append(4)\\nprint(my_list)  # [1, 2, 3, 4]\\n\\n# Get the length of the list\\nprint(len(my_list))  # 4\\n\\n# Use indexing to access individual elements\\nprint(my_list[0])  # 1\\n\\n# Create a tuple\\nmy_tuple = (1, 2, 3)\\n\\n# Use slicing to extract a subset of elements from the tuple\\nprint(my_tuple[1:])  # (2, 3)\\n```'"
      ]
     },
     "execution_count": 53,
     "metadata": {},
     "output_type": "execute_result"
    }
   ],
   "source": [
    "stream['response']"
   ]
  },
  {
   "cell_type": "code",
   "execution_count": null,
   "id": "e4cfd474",
   "metadata": {},
   "outputs": [],
   "source": [
    "Based on the provided context, here is a concise yet thorough answer:\n",
    "According to the provided context, "
   ]
  },
  {
   "cell_type": "code",
   "execution_count": 14,
   "id": "d0bae7fc",
   "metadata": {},
   "outputs": [],
   "source": [
    "\n",
    "string = \"5 2 C D +\"\n",
    "ops = string.strip().split(' ')"
   ]
  },
  {
   "cell_type": "code",
   "execution_count": 19,
   "id": "ed60738f",
   "metadata": {},
   "outputs": [],
   "source": [
    "def calPoints(ops):\n",
    "    stack = []\n",
    "\n",
    "    for op in ops:\n",
    "        if op == \"+\":\n",
    "            stack.append(stack[-1] + stack[-2])\n",
    "        elif op == \"D\":\n",
    "            stack.append(2 * stack[-1])\n",
    "        elif op == \"C\":\n",
    "            stack.pop()\n",
    "        else:\n",
    "            stack.append(int(op))\n",
    "    \n",
    "    return sum(stack)\n"
   ]
  },
  {
   "cell_type": "code",
   "execution_count": 42,
   "id": "3a7ac661",
   "metadata": {},
   "outputs": [
    {
     "name": "stdout",
     "output_type": "stream",
     "text": [
      "[13, 23, 12, 10]\n"
     ]
    }
   ],
   "source": [
    "line = \"[13,23,12,10]\"\n",
    "mtx = [int(num) for num in line[1:-1].split(',')]\n",
    "print(mtx)"
   ]
  },
  {
   "cell_type": "code",
   "execution_count": 46,
   "id": "f554af26",
   "metadata": {},
   "outputs": [
    {
     "name": "stdout",
     "output_type": "stream",
     "text": [
      "reminder 13: 3\n",
      "reminder 13: 3\n",
      "reminder 13: 3\n",
      "reminder 23: 3\n",
      "reminder 23: 3\n",
      "reminder 12: 2\n"
     ]
    }
   ],
   "source": [
    "length = len(mtx)\n",
    "diff_arr = []\n",
    "if length == 0:\n",
    "    print(\"Empty list\")\n",
    "elif length == 1:\n",
    "    print(\"List has only one element\")\n",
    "else:\n",
    "    for i in range(length):\n",
    "        for j in range(i + 1, length):\n",
    "            # print(mtx[i] , mtx[j])\n",
    "            reminder = mtx[i] % 10\n",
    "            print(f'reminder {mtx[i]}:', reminder)\n",
    "            \n",
    "                \n",
    "        "
   ]
  },
  {
   "cell_type": "code",
   "execution_count": 20,
   "id": "3b455694",
   "metadata": {},
   "outputs": [
    {
     "data": {
      "text/plain": [
       "30"
      ]
     },
     "execution_count": 20,
     "metadata": {},
     "output_type": "execute_result"
    }
   ],
   "source": [
    "calPoints(ops)"
   ]
  },
  {
   "cell_type": "code",
   "execution_count": null,
   "id": "bf8009c0",
   "metadata": {},
   "outputs": [],
   "source": [
    "def solve():\n",
    "    import pandas as pd\n",
    "\n",
    "    df = pd.read_csv(\"data/listings.csv\")\n",
    "    df['price'] = df['price'].replace('[\\$,]', '', regex=True).astype(float)\n",
    "\n",
    "    review_cols = [\n",
    "        'review_scores_rating', 'review_scores_accuracy', 'review_scores_cleanliness',\n",
    "        'review_scores_checkin', 'review_scores_communication',\n",
    "        'review_scores_location', 'review_scores_value'\n",
    "    ]\n",
    "\n",
    "    corr = df[review_cols + ['price']].corr()['price'].drop('price')\n",
    "    result = corr.abs().idxmax()\n",
    "\n",
    "    print(result)\n"
   ]
  },
  {
   "cell_type": "code",
   "execution_count": null,
   "id": "b6ab41c2",
   "metadata": {},
   "outputs": [],
   "source": [
    "def solve():\n",
    "    import pandas as pd\n",
    "\n",
    "    df = pd.read_csv(\"data/listings.csv\")\n",
    "    df['price'] = df['price'].replace('[\\$,]', '', regex=True).astype(float)\n",
    "\n",
    "    host_neighs = df.groupby('host_id')['neighbourhood_cleansed'].nunique()\n",
    "    professional_hosts = host_neighs[host_neighs > 5].index\n",
    "\n",
    "    df['is_professional'] = df['host_id'].isin(professional_hosts)\n",
    "\n",
    "    mean_prices = df.groupby('is_professional')['price'].mean()\n",
    "    diff = abs(mean_prices[True] - mean_prices[False])\n",
    "\n",
    "    print(round(diff, 2))\n"
   ]
  },
  {
   "cell_type": "code",
   "execution_count": null,
   "id": "6fc59ea8",
   "metadata": {},
   "outputs": [],
   "source": [
    "def solve():\n",
    "    import pandas as pd\n",
    "\n",
    "    df = pd.read_csv(\"data/listings.csv\")\n",
    "    df['price'] = df['price'].replace('[\\$,]', '', regex=True).astype(float)\n",
    "\n",
    "    df_entire = df[df['room_type'] == 'Entire home/apt']\n",
    "    df_other = df[df['room_type'] != 'Entire home/apt']\n",
    "\n",
    "    neighborhoods = df['neighbourhood_cleansed'].unique()\n",
    "    premiums = []\n",
    "\n",
    "    for n in neighborhoods:\n",
    "        med_entire = df_entire[df_entire['neighbourhood_cleansed'] == n]['price'].median()\n",
    "        med_other = df_other[df_other['neighbourhood_cleansed'] == n]['price'].median()\n",
    "        if not pd.isna(med_entire) and not pd.isna(med_other):\n",
    "            premiums.append(med_entire - med_other)\n",
    "\n",
    "    avg_premium = sum(premiums) / len(premiums)\n",
    "    print(round(avg_premium, 2))\n"
   ]
  },
  {
   "cell_type": "code",
   "execution_count": null,
   "id": "0af5f761",
   "metadata": {},
   "outputs": [],
   "source": [
    "def solve():\n",
    "    import pandas as pd\n",
    "\n",
    "    listings = pd.read_csv(\"data/listings.csv\")\n",
    "    reviews = pd.read_csv(\"data/reviews.csv\")\n",
    "\n",
    "    listings['price'] = listings['price'].replace('[\\$,]', '', regex=True).astype(float)\n",
    "\n",
    "    from datetime import datetime, timedelta\n",
    "\n",
    "    reviews['date'] = pd.to_datetime(reviews['date'])\n",
    "    cutoff = reviews['date'].max() - pd.DateOffset(months=12)\n",
    "    reviews_recent = reviews[reviews['date'] >= cutoff]\n",
    "\n",
    "    reviews_count = reviews_recent['listing_id'].value_counts()\n",
    "\n",
    "    listings = listings[listings['minimum_nights'] <= 7]\n",
    "\n",
    "    listings = listings[listings['id'].isin(reviews_count.index)]\n",
    "    listings['reviews_last_year'] = listings['id'].map(reviews_count)\n",
    "\n",
    "    listings['expected_bookings'] = listings['reviews_last_year'] / 0.6\n",
    "    listings['expected_revenue'] = listings['expected_bookings'] * listings['minimum_nights'] * listings['price']\n",
    "\n",
    "    best_listing = listings.loc[listings['expected_revenue'].idxmax()]\n",
    "    print(int(best_listing['id']))\n"
   ]
  },
  {
   "cell_type": "code",
   "execution_count": null,
   "id": "018407cf",
   "metadata": {},
   "outputs": [],
   "source": [
    "def solve():\n",
    "    import pandas as pd\n",
    "\n",
    "    df = pd.read_csv(\"data/listings.csv\")\n",
    "\n",
    "    df = df[df['host_is_superhost'].isin(['t', 'f'])]\n",
    "\n",
    "    means = df.groupby('host_is_superhost')['review_scores_rating'].mean()\n",
    "    diff = abs(means['t'] - means['f'])\n",
    "\n",
    "    print(round(diff, 2))\n"
   ]
  },
  {
   "cell_type": "code",
   "execution_count": null,
   "id": "2963d2c5",
   "metadata": {},
   "outputs": [],
   "source": [
    "def solve():\n",
    "    import pandas as pd\n",
    "\n",
    "    df = pd.read_csv(\"data/listings.csv\")\n",
    "\n",
    "    df['host_since'] = pd.to_datetime(df['host_since'], errors='coerce')\n",
    "    df['host_since_days'] = (pd.Timestamp.now() - df['host_since']).dt.days\n",
    "\n",
    "    df['host_identity_verified'] = df['host_identity_verified'].map({'t': 1, 'f': 0})\n",
    "    df['host_is_superhost'] = df['host_is_superhost'].map({'t': 1, 'f': 0})\n",
    "\n",
    "    attrs = [\n",
    "        'host_since_days', 'host_listings_count',\n",
    "        'host_identity_verified', 'calculated_host_listings_count',\n",
    "        'host_is_superhost'\n",
    "    ]\n",
    "\n",
    "    corr = df[attrs + ['number_of_reviews']].corr()['number_of_reviews'].drop('number_of_reviews')\n",
    "    second = corr.abs().sort_values(ascending=False).index[1]\n",
    "\n",
    "    print(second)\n"
   ]
  }
 ],
 "metadata": {
  "kernelspec": {
   "display_name": "env",
   "language": "python",
   "name": "python3"
  },
  "language_info": {
   "codemirror_mode": {
    "name": "ipython",
    "version": 3
   },
   "file_extension": ".py",
   "mimetype": "text/x-python",
   "name": "python",
   "nbconvert_exporter": "python",
   "pygments_lexer": "ipython3",
   "version": "3.10.12"
  }
 },
 "nbformat": 4,
 "nbformat_minor": 5
}
